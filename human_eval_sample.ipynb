{
 "cells": [
  {
   "cell_type": "code",
   "execution_count": 3,
   "metadata": {},
   "outputs": [],
   "source": [
    "from pathlib import Path\n",
    "import json\n",
    "from rouge import Rouge\n",
    "import numpy as np\n",
    "import pandas as pd\n",
    "from tqdm.notebook import tqdm"
   ]
  },
  {
   "cell_type": "code",
   "execution_count": 4,
   "metadata": {},
   "outputs": [],
   "source": [
    "# this notebook samples and formats articles for human annotation"
   ]
  },
  {
   "cell_type": "code",
   "execution_count": 6,
   "metadata": {},
   "outputs": [],
   "source": [
    "pubmed_test = [json.loads(x) for x in Path(\"data/pubmed-release/test.txt\").read_text().split(\"\\n\") if x]\n",
    "pubmed_abstracts = [\"\\n\".join(x['abstract_text']).replace(\"<S>\", \"\").replace(\"</S>\", \"\") for x in pubmed_test]"
   ]
  },
  {
   "cell_type": "code",
   "execution_count": 3,
   "metadata": {},
   "outputs": [],
   "source": [
    "pubmed_test_pacsum_path = \"results/exp8/pubmed_test_no_sections-pacsum_bert-cos-order-add_f=0.0_b=1.0_s=1.0/summaries.json\"\n",
    "pubmed_test_pacsum = json.loads(Path(pubmed_test_pacsum_path).read_text())\n",
    "pubmed_test_pacsum = [\"\\n\".join([s[0].replace(\"\\n\", \"\") for s in x['summary']]) for x in pubmed_test_pacsum]"
   ]
  },
  {
   "cell_type": "code",
   "execution_count": 4,
   "metadata": {},
   "outputs": [],
   "source": [
    "pubmed_test_hiporank_path = \"results/exp3/pubmed_test-pacsum_bert-cos-edge-add_f=0.0_b=1.0_s=0.5/summaries.json\"\n",
    "pubmed_test_hiporank = json.loads(Path(pubmed_test_hiporank_path).read_text())\n",
    "pubmed_test_hiporank = [\"\\n\".join([s[0].replace(\"\\n\", \"\") for s in x['summary']]) for x in pubmed_test_hiporank]"
   ]
  },
  {
   "cell_type": "code",
   "execution_count": 5,
   "metadata": {},
   "outputs": [
    {
     "data": {
      "text/plain": [
       "'finally , we use  rest to obtain the gibbs free energy profiles between different molecular  pair types from the corresponding lateral radial distribution functions .\\nin this work , we applied replica exchange with solute tempering  ( rest ) to a cholesterol  dppc bilayer system . in rest ,\\nalso , combined with umbrella sampling ,  rest can be used to accelerate relaxation on degrees of freedom orthogonal  to the reaction coordinate , which is reported as a hurdle in free  energy calculations for lipid membranes .\\nmolecular dynamics simulations  have been used as a powerful tool  to study lipid membranes but are limited by the length and time scales  of the probing systems . in particular , the lateral diffusion rate  of a lipid in a membrane , although varying among different experimental  techniques , is in the range 1010 cm s. this means that it will take a lipid about  hundreds of nanoseconds to microseconds time scale to cover a 1 nm area .\\nfurthermore , lipids are observed to move collectively  with their neighbors , and therefore , the rate at which a lipid swaps  position with its neighbor is even slower .\\nwe also show that  the lateral radial distribution function between all molecular pair  types ( chol  chol , chol - dppc , dppc '"
      ]
     },
     "execution_count": 5,
     "metadata": {},
     "output_type": "execute_result"
    }
   ],
   "source": [
    "pubmed_test_hiporank[1455]"
   ]
  },
  {
   "cell_type": "markdown",
   "metadata": {},
   "source": [
    "# Scores"
   ]
  },
  {
   "cell_type": "code",
   "execution_count": 6,
   "metadata": {},
   "outputs": [],
   "source": [
    "rouge = Rouge(metrics=['rouge-n', 'rouge-l'], max_n=2, alpha=0.5, stemming=True)"
   ]
  },
  {
   "cell_type": "code",
   "execution_count": 7,
   "metadata": {},
   "outputs": [
    {
     "data": {
      "application/vnd.jupyter.widget-view+json": {
       "model_id": "a32bb240c8af4bf7be597c8566cfd958",
       "version_major": 2,
       "version_minor": 0
      },
      "text/plain": [
       "HBox(children=(FloatProgress(value=1.0, bar_style='info', max=1.0), HTML(value='')))"
      ]
     },
     "metadata": {},
     "output_type": "display_data"
    },
    {
     "name": "stdout",
     "output_type": "stream",
     "text": [
      "\n"
     ]
    }
   ],
   "source": [
    "hr_score = [rouge.get_scores([s], [r]) for s,r in tqdm(zip(pubmed_test_hiporank, pubmed_abstracts))]"
   ]
  },
  {
   "cell_type": "code",
   "execution_count": 8,
   "metadata": {},
   "outputs": [
    {
     "data": {
      "text/plain": [
       "2880879"
      ]
     },
     "execution_count": 8,
     "metadata": {},
     "output_type": "execute_result"
    }
   ],
   "source": [
    "Path(\"./test_pubmed_hiporank_rouge.json\").write_text(json.dumps(hr_score, indent=4))"
   ]
  },
  {
   "cell_type": "code",
   "execution_count": 11,
   "metadata": {},
   "outputs": [
    {
     "data": {
      "application/vnd.jupyter.widget-view+json": {
       "model_id": "80c952ccc12546ea8ac2d613a3326703",
       "version_major": 2,
       "version_minor": 0
      },
      "text/plain": [
       "HBox(children=(FloatProgress(value=0.0, max=6658.0), HTML(value='')))"
      ]
     },
     "metadata": {},
     "output_type": "display_data"
    },
    {
     "name": "stdout",
     "output_type": "stream",
     "text": [
      "\n"
     ]
    }
   ],
   "source": [
    "pc_score = [rouge.get_scores([s], [r]) for s,r in tqdm(zip(pubmed_test_pacsum, pubmed_abstracts), total=len(pubmed_test_pacsum))]"
   ]
  },
  {
   "cell_type": "code",
   "execution_count": 12,
   "metadata": {},
   "outputs": [
    {
     "data": {
      "text/plain": [
       "2880009"
      ]
     },
     "execution_count": 12,
     "metadata": {},
     "output_type": "execute_result"
    }
   ],
   "source": [
    "Path(\"./test_pubmed_pacsum_rouge.json\").write_text(json.dumps(pc_score, indent=4))"
   ]
  },
  {
   "cell_type": "code",
   "execution_count": 13,
   "metadata": {},
   "outputs": [
    {
     "data": {
      "application/vnd.jupyter.widget-view+json": {
       "model_id": "f39c3af4717f4b2e8fb6c92b40f305cd",
       "version_major": 2,
       "version_minor": 0
      },
      "text/plain": [
       "HBox(children=(FloatProgress(value=1.0, bar_style='info', max=1.0), HTML(value='')))"
      ]
     },
     "metadata": {},
     "output_type": "display_data"
    },
    {
     "name": "stdout",
     "output_type": "stream",
     "text": [
      "\n"
     ]
    }
   ],
   "source": [
    "m2m_score = [rouge.get_scores([s], [r]) for s,r in tqdm(zip(pubmed_test_pacsum, pubmed_test_hiporank))]"
   ]
  },
  {
   "cell_type": "code",
   "execution_count": 14,
   "metadata": {},
   "outputs": [
    {
     "data": {
      "text/plain": [
       "2867841"
      ]
     },
     "execution_count": 14,
     "metadata": {},
     "output_type": "execute_result"
    }
   ],
   "source": [
    "Path(\"./test_pubmed_m2m_rouge.json\").write_text(json.dumps(m2m_score, indent=4))"
   ]
  },
  {
   "cell_type": "code",
   "execution_count": 18,
   "metadata": {},
   "outputs": [
    {
     "data": {
      "text/plain": [
       "0.1368870881940549"
      ]
     },
     "execution_count": 18,
     "metadata": {},
     "output_type": "execute_result"
    }
   ],
   "source": [
    "np.mean([x[\"rouge-2\"][\"f\"] for x in hr_score])"
   ]
  },
  {
   "cell_type": "code",
   "execution_count": 19,
   "metadata": {},
   "outputs": [
    {
     "data": {
      "text/plain": [
       "0.12364436661640013"
      ]
     },
     "execution_count": 19,
     "metadata": {},
     "output_type": "execute_result"
    }
   ],
   "source": [
    "np.mean([x[\"rouge-2\"][\"f\"] for x in pc_score])"
   ]
  },
  {
   "cell_type": "markdown",
   "metadata": {},
   "source": [
    "# Histograms"
   ]
  },
  {
   "cell_type": "code",
   "execution_count": 20,
   "metadata": {},
   "outputs": [],
   "source": [
    "import matplotlib.pyplot as plt"
   ]
  },
  {
   "cell_type": "code",
   "execution_count": 28,
   "metadata": {},
   "outputs": [
    {
     "name": "stderr",
     "output_type": "stream",
     "text": [
      "/home/amr/.local/lib/python3.6/site-packages/ipykernel_launcher.py:3: MatplotlibDeprecationWarning: \n",
      "The 'normed' kwarg was deprecated in Matplotlib 2.1 and will be removed in 3.1. Use 'density' instead.\n",
      "  This is separate from the ipykernel package so we can avoid doing imports until\n"
     ]
    },
    {
     "data": {
      "text/plain": [
       "Text(0, 0.5, 'Density')"
      ]
     },
     "execution_count": 28,
     "metadata": {},
     "output_type": "execute_result"
    },
    {
     "data": {
      "image/png": "[encoded data removed]",
      "text/plain": [
       "<Figure size 432x288 with 1 Axes>"
      ]
     },
     "metadata": {
      "needs_background": "light"
     },
     "output_type": "display_data"
    }
   ],
   "source": [
    "data = np.array([[100*h[\"rouge-2\"][\"f\"],100*p[\"rouge-2\"][\"f\"]] for h,p in zip(hr_score, pc_score)])\n",
    "kwargs = dict(histtype='stepfilled', alpha=0.3, normed=True, bins=50)\n",
    "plt.hist(data, label=[\"hiporank\",\"pacsum\"], **kwargs)\n",
    "plt.legend(prop={'size': 10})\n",
    "plt.xlabel(\"ROUGE-2\")\n",
    "plt.ylabel(\"Density\")"
   ]
  },
  {
   "cell_type": "code",
   "execution_count": 29,
   "metadata": {
    "scrolled": true
   },
   "outputs": [
    {
     "name": "stderr",
     "output_type": "stream",
     "text": [
      "/home/amr/.local/lib/python3.6/site-packages/ipykernel_launcher.py:3: MatplotlibDeprecationWarning: \n",
      "The 'normed' kwarg was deprecated in Matplotlib 2.1 and will be removed in 3.1. Use 'density' instead.\n",
      "  This is separate from the ipykernel package so we can avoid doing imports until\n"
     ]
    },
    {
     "data": {
      "text/plain": [
       "Text(0, 0.5, 'Density')"
      ]
     },
     "execution_count": 29,
     "metadata": {},
     "output_type": "execute_result"
    },
    {
     "data": {
      "image/png": "[encoded data removed]",
      "text/plain": [
       "<Figure size 432x288 with 1 Axes>"
      ]
     },
     "metadata": {
      "needs_background": "light"
     },
     "output_type": "display_data"
    }
   ],
   "source": [
    "data = np.array([[100*h[\"rouge-1\"][\"f\"],100*p[\"rouge-1\"][\"f\"]] for h,p in zip(hr_score, pc_score)])\n",
    "kwargs = dict(histtype='stepfilled', alpha=0.3, normed=True, bins=50)\n",
    "plt.hist(data, label=[\"hiporank\",\"pacsum\"], **kwargs)\n",
    "plt.legend(prop={'size': 10})\n",
    "plt.xlabel(\"ROUGE-1\")\n",
    "plt.ylabel(\"Density\")"
   ]
  },
  {
   "cell_type": "code",
   "execution_count": 30,
   "metadata": {},
   "outputs": [
    {
     "name": "stderr",
     "output_type": "stream",
     "text": [
      "/home/amr/.local/lib/python3.6/site-packages/ipykernel_launcher.py:3: MatplotlibDeprecationWarning: \n",
      "The 'normed' kwarg was deprecated in Matplotlib 2.1 and will be removed in 3.1. Use 'density' instead.\n",
      "  This is separate from the ipykernel package so we can avoid doing imports until\n"
     ]
    },
    {
     "data": {
      "text/plain": [
       "Text(0, 0.5, 'Density')"
      ]
     },
     "execution_count": 30,
     "metadata": {},
     "output_type": "execute_result"
    },
    {
     "data": {
      "image/png": "[encoded data removed]",
      "text/plain": [
       "<Figure size 432x288 with 1 Axes>"
      ]
     },
     "metadata": {
      "needs_background": "light"
     },
     "output_type": "display_data"
    }
   ],
   "source": [
    "data = np.array([[100*h[\"rouge-l\"][\"f\"],100*p[\"rouge-l\"][\"f\"]] for h,p in zip(hr_score, pc_score)])\n",
    "kwargs = dict(histtype='stepfilled', alpha=0.3, normed=True, bins=50)\n",
    "plt.hist(data, label=[\"hiporank\",\"pacsum\"], **kwargs)\n",
    "plt.legend(prop={'size': 10})\n",
    "plt.xlabel(\"ROUGE-L\")\n",
    "plt.ylabel(\"Density\")"
   ]
  },
  {
   "cell_type": "code",
   "execution_count": 34,
   "metadata": {},
   "outputs": [],
   "source": [
    "df = pd.DataFrame()\n",
    "for score in ['rouge-2']:\n",
    "    df[f\"hr_{score}\"] = [x[score][\"f\"] for x in hr_score]\n",
    "    df[f\"ps_{score}\"] = [x[score][\"f\"] for x in pc_score]\n",
    "    df[f\"delta_{score}\"] = (df[f\"hr_{score}\"] - df[f\"ps_{score}\"])\n",
    "    df[f\"prop_delta_{score}\"] = abs(df[f\"delta_{score}\"] - 0.003)\n",
    "    df[f\"ps+hr_{score}\"] = [x[score][\"f\"] for x in m2m_score]\n"
   ]
  },
  {
   "cell_type": "code",
   "execution_count": 35,
   "metadata": {},
   "outputs": [
    {
     "data": {
      "text/html": [
       "<div>\n",
       "<style scoped>\n",
       "    .dataframe tbody tr th:only-of-type {\n",
       "        vertical-align: middle;\n",
       "    }\n",
       "\n",
       "    .dataframe tbody tr th {\n",
       "        vertical-align: top;\n",
       "    }\n",
       "\n",
       "    .dataframe thead th {\n",
       "        text-align: right;\n",
       "    }\n",
       "</style>\n",
       "<table border=\"1\" class=\"dataframe\">\n",
       "  <thead>\n",
       "    <tr style=\"text-align: right;\">\n",
       "      <th></th>\n",
       "      <th>hr_rouge-2</th>\n",
       "      <th>ps_rouge-2</th>\n",
       "      <th>delta_rouge-2</th>\n",
       "      <th>prop_delta_rouge-2</th>\n",
       "      <th>ps+hr_rouge-2</th>\n",
       "    </tr>\n",
       "  </thead>\n",
       "  <tbody>\n",
       "    <tr>\n",
       "      <th>count</th>\n",
       "      <td>6658.000000</td>\n",
       "      <td>6658.000000</td>\n",
       "      <td>6658.000000</td>\n",
       "      <td>6658.000000</td>\n",
       "      <td>6658.000000</td>\n",
       "    </tr>\n",
       "    <tr>\n",
       "      <th>mean</th>\n",
       "      <td>0.136887</td>\n",
       "      <td>0.123644</td>\n",
       "      <td>0.013243</td>\n",
       "      <td>0.074252</td>\n",
       "      <td>0.265198</td>\n",
       "    </tr>\n",
       "    <tr>\n",
       "      <th>std</th>\n",
       "      <td>0.099476</td>\n",
       "      <td>0.131324</td>\n",
       "      <td>0.113628</td>\n",
       "      <td>0.086615</td>\n",
       "      <td>0.167232</td>\n",
       "    </tr>\n",
       "    <tr>\n",
       "      <th>min</th>\n",
       "      <td>0.000000</td>\n",
       "      <td>0.000000</td>\n",
       "      <td>-0.906446</td>\n",
       "      <td>0.000014</td>\n",
       "      <td>0.000000</td>\n",
       "    </tr>\n",
       "    <tr>\n",
       "      <th>25%</th>\n",
       "      <td>0.068627</td>\n",
       "      <td>0.046825</td>\n",
       "      <td>-0.024622</td>\n",
       "      <td>0.018755</td>\n",
       "      <td>0.147240</td>\n",
       "    </tr>\n",
       "    <tr>\n",
       "      <th>50%</th>\n",
       "      <td>0.113402</td>\n",
       "      <td>0.086486</td>\n",
       "      <td>0.014162</td>\n",
       "      <td>0.047343</td>\n",
       "      <td>0.257732</td>\n",
       "    </tr>\n",
       "    <tr>\n",
       "      <th>75%</th>\n",
       "      <td>0.180851</td>\n",
       "      <td>0.152989</td>\n",
       "      <td>0.065936</td>\n",
       "      <td>0.096974</td>\n",
       "      <td>0.359788</td>\n",
       "    </tr>\n",
       "    <tr>\n",
       "      <th>max</th>\n",
       "      <td>0.931034</td>\n",
       "      <td>0.984772</td>\n",
       "      <td>0.511557</td>\n",
       "      <td>0.909446</td>\n",
       "      <td>1.000000</td>\n",
       "    </tr>\n",
       "  </tbody>\n",
       "</table>\n",
       "</div>"
      ],
      "text/plain": [
       "        hr_rouge-2   ps_rouge-2  delta_rouge-2  prop_delta_rouge-2  \\\n",
       "count  6658.000000  6658.000000    6658.000000         6658.000000   \n",
       "mean      0.136887     0.123644       0.013243            0.074252   \n",
       "std       0.099476     0.131324       0.113628            0.086615   \n",
       "min       0.000000     0.000000      -0.906446            0.000014   \n",
       "25%       0.068627     0.046825      -0.024622            0.018755   \n",
       "50%       0.113402     0.086486       0.014162            0.047343   \n",
       "75%       0.180851     0.152989       0.065936            0.096974   \n",
       "max       0.931034     0.984772       0.511557            0.909446   \n",
       "\n",
       "       ps+hr_rouge-2  \n",
       "count    6658.000000  \n",
       "mean        0.265198  \n",
       "std         0.167232  \n",
       "min         0.000000  \n",
       "25%         0.147240  \n",
       "50%         0.257732  \n",
       "75%         0.359788  \n",
       "max         1.000000  "
      ]
     },
     "execution_count": 35,
     "metadata": {},
     "output_type": "execute_result"
    }
   ],
   "source": [
    "df.describe()"
   ]
  },
  {
   "cell_type": "code",
   "execution_count": 37,
   "metadata": {},
   "outputs": [
    {
     "data": {
      "text/html": [
       "<div>\n",
       "<style scoped>\n",
       "    .dataframe tbody tr th:only-of-type {\n",
       "        vertical-align: middle;\n",
       "    }\n",
       "\n",
       "    .dataframe tbody tr th {\n",
       "        vertical-align: top;\n",
       "    }\n",
       "\n",
       "    .dataframe thead th {\n",
       "        text-align: right;\n",
       "    }\n",
       "</style>\n",
       "<table border=\"1\" class=\"dataframe\">\n",
       "  <thead>\n",
       "    <tr style=\"text-align: right;\">\n",
       "      <th></th>\n",
       "      <th>hr_rouge-2</th>\n",
       "      <th>ps_rouge-2</th>\n",
       "      <th>delta_rouge-2</th>\n",
       "      <th>prop_delta_rouge-2</th>\n",
       "      <th>ps+hr_rouge-2</th>\n",
       "    </tr>\n",
       "  </thead>\n",
       "  <tbody>\n",
       "    <tr>\n",
       "      <th>1469</th>\n",
       "      <td>0.089552</td>\n",
       "      <td>0.086538</td>\n",
       "      <td>0.003014</td>\n",
       "      <td>0.000014</td>\n",
       "      <td>0.189573</td>\n",
       "    </tr>\n",
       "    <tr>\n",
       "      <th>1137</th>\n",
       "      <td>0.274725</td>\n",
       "      <td>0.271739</td>\n",
       "      <td>0.002986</td>\n",
       "      <td>0.000014</td>\n",
       "      <td>0.522222</td>\n",
       "    </tr>\n",
       "    <tr>\n",
       "      <th>6632</th>\n",
       "      <td>0.043243</td>\n",
       "      <td>0.040201</td>\n",
       "      <td>0.003042</td>\n",
       "      <td>0.000042</td>\n",
       "      <td>0.120000</td>\n",
       "    </tr>\n",
       "    <tr>\n",
       "      <th>5122</th>\n",
       "      <td>0.070352</td>\n",
       "      <td>0.067308</td>\n",
       "      <td>0.003044</td>\n",
       "      <td>0.000044</td>\n",
       "      <td>0.132701</td>\n",
       "    </tr>\n",
       "    <tr>\n",
       "      <th>802</th>\n",
       "      <td>0.102564</td>\n",
       "      <td>0.099502</td>\n",
       "      <td>0.003062</td>\n",
       "      <td>0.000062</td>\n",
       "      <td>0.239583</td>\n",
       "    </tr>\n",
       "    <tr>\n",
       "      <th>...</th>\n",
       "      <td>...</td>\n",
       "      <td>...</td>\n",
       "      <td>...</td>\n",
       "      <td>...</td>\n",
       "      <td>...</td>\n",
       "    </tr>\n",
       "    <tr>\n",
       "      <th>5267</th>\n",
       "      <td>0.122699</td>\n",
       "      <td>0.121212</td>\n",
       "      <td>0.001487</td>\n",
       "      <td>0.001513</td>\n",
       "      <td>0.583333</td>\n",
       "    </tr>\n",
       "    <tr>\n",
       "      <th>4659</th>\n",
       "      <td>0.072539</td>\n",
       "      <td>0.071066</td>\n",
       "      <td>0.001473</td>\n",
       "      <td>0.001527</td>\n",
       "      <td>0.191489</td>\n",
       "    </tr>\n",
       "    <tr>\n",
       "      <th>2966</th>\n",
       "      <td>0.050251</td>\n",
       "      <td>0.048780</td>\n",
       "      <td>0.001471</td>\n",
       "      <td>0.001529</td>\n",
       "      <td>0.019417</td>\n",
       "    </tr>\n",
       "    <tr>\n",
       "      <th>2339</th>\n",
       "      <td>0.072165</td>\n",
       "      <td>0.070707</td>\n",
       "      <td>0.001458</td>\n",
       "      <td>0.001542</td>\n",
       "      <td>0.359223</td>\n",
       "    </tr>\n",
       "    <tr>\n",
       "      <th>2812</th>\n",
       "      <td>0.070423</td>\n",
       "      <td>0.068966</td>\n",
       "      <td>0.001457</td>\n",
       "      <td>0.001543</td>\n",
       "      <td>0.359788</td>\n",
       "    </tr>\n",
       "  </tbody>\n",
       "</table>\n",
       "<p>100 rows × 5 columns</p>\n",
       "</div>"
      ],
      "text/plain": [
       "      hr_rouge-2  ps_rouge-2  delta_rouge-2  prop_delta_rouge-2  ps+hr_rouge-2\n",
       "1469    0.089552    0.086538       0.003014            0.000014       0.189573\n",
       "1137    0.274725    0.271739       0.002986            0.000014       0.522222\n",
       "6632    0.043243    0.040201       0.003042            0.000042       0.120000\n",
       "5122    0.070352    0.067308       0.003044            0.000044       0.132701\n",
       "802     0.102564    0.099502       0.003062            0.000062       0.239583\n",
       "...          ...         ...            ...                 ...            ...\n",
       "5267    0.122699    0.121212       0.001487            0.001513       0.583333\n",
       "4659    0.072539    0.071066       0.001473            0.001527       0.191489\n",
       "2966    0.050251    0.048780       0.001471            0.001529       0.019417\n",
       "2339    0.072165    0.070707       0.001458            0.001542       0.359223\n",
       "2812    0.070423    0.068966       0.001457            0.001543       0.359788\n",
       "\n",
       "[100 rows x 5 columns]"
      ]
     },
     "execution_count": 37,
     "metadata": {},
     "output_type": "execute_result"
    }
   ],
   "source": [
    "# get summaries with similar scores for hiporank/pacsum to make evaluation neutral\n",
    "df_same_scores = df.sort_values(by=[\"prop_delta_rouge-2\"]).head(100)\n",
    "df_same_scores"
   ]
  },
  {
   "cell_type": "code",
   "execution_count": 39,
   "metadata": {},
   "outputs": [],
   "source": [
    "# because the summaries are extractive, we want to remove summaries that are the same for both pacsum/hiporank\n",
    "# to do this, we computed the rouge score between the two summaries\n",
    "# summaries that are different from one another will have small ps/hr score\n",
    "# we also drop summaries with 0 rouge scores\n",
    "\n",
    "df_sample = df_same_scores.loc[df_same_scores[\"hr_rouge-2\"] != 0].sort_values(by=[\"ps+hr_rouge-2\"]).head(20)"
   ]
  },
  {
   "cell_type": "code",
   "execution_count": 40,
   "metadata": {},
   "outputs": [],
   "source": [
    "df_sample[\"abstract\"] = [pubmed_abstracts[i] for i in df_sample.index]\n",
    "df_sample[\"hr_summary\"] = [pubmed_test_hiporank[i] for i in df_sample.index]\n",
    "df_sample[\"ps_summary\"] = [pubmed_test_pacsum[i] for i in df_sample.index]\n",
    "\n",
    "\n",
    "pubmed_sample_json = df_sample.to_dict(orient=\"index\")"
   ]
  },
  {
   "cell_type": "code",
   "execution_count": 41,
   "metadata": {
    "scrolled": true
   },
   "outputs": [
    {
     "data": {
      "text/html": [
       "<div>\n",
       "<style scoped>\n",
       "    .dataframe tbody tr th:only-of-type {\n",
       "        vertical-align: middle;\n",
       "    }\n",
       "\n",
       "    .dataframe tbody tr th {\n",
       "        vertical-align: top;\n",
       "    }\n",
       "\n",
       "    .dataframe thead th {\n",
       "        text-align: right;\n",
       "    }\n",
       "</style>\n",
       "<table border=\"1\" class=\"dataframe\">\n",
       "  <thead>\n",
       "    <tr style=\"text-align: right;\">\n",
       "      <th></th>\n",
       "      <th>hr_rouge-2</th>\n",
       "      <th>ps_rouge-2</th>\n",
       "      <th>delta_rouge-2</th>\n",
       "      <th>prop_delta_rouge-2</th>\n",
       "      <th>ps+hr_rouge-2</th>\n",
       "      <th>abstract</th>\n",
       "      <th>hr_summary</th>\n",
       "      <th>ps_summary</th>\n",
       "    </tr>\n",
       "  </thead>\n",
       "  <tbody>\n",
       "    <tr>\n",
       "      <th>2966</th>\n",
       "      <td>0.050251</td>\n",
       "      <td>0.048780</td>\n",
       "      <td>0.001471</td>\n",
       "      <td>0.001529</td>\n",
       "      <td>0.019417</td>\n",
       "      <td>during a  well london study , residents were ...</td>\n",
       "      <td>this article critically engages with residents...</td>\n",
       "      <td>dog poo. not only was the frequency of the com...</td>\n",
       "    </tr>\n",
       "    <tr>\n",
       "      <th>907</th>\n",
       "      <td>0.044693</td>\n",
       "      <td>0.043011</td>\n",
       "      <td>0.001682</td>\n",
       "      <td>0.001318</td>\n",
       "      <td>0.020305</td>\n",
       "      <td>prostate cancer ( pca ) therapy typically inv...</td>\n",
       "      <td>compound purity in all instances  was greater ...</td>\n",
       "      <td>the molecular basis of the disease involves an...</td>\n",
       "    </tr>\n",
       "    <tr>\n",
       "      <th>4100</th>\n",
       "      <td>0.059880</td>\n",
       "      <td>0.057471</td>\n",
       "      <td>0.002409</td>\n",
       "      <td>0.000591</td>\n",
       "      <td>0.022099</td>\n",
       "      <td>\\n objective . to review the recent literatur...</td>\n",
       "      <td>review of recent literature reveals significan...</td>\n",
       "      <td>brain plasticity , the developing brain 's abi...</td>\n",
       "    </tr>\n",
       "    <tr>\n",
       "      <th>4326</th>\n",
       "      <td>0.034884</td>\n",
       "      <td>0.032258</td>\n",
       "      <td>0.002626</td>\n",
       "      <td>0.000374</td>\n",
       "      <td>0.033708</td>\n",
       "      <td>in order to account for the observable univer...</td>\n",
       "      <td>numerical investigations of cosmological space...</td>\n",
       "      <td>these phenomena are described in terms of coup...</td>\n",
       "    </tr>\n",
       "    <tr>\n",
       "      <th>5637</th>\n",
       "      <td>0.065217</td>\n",
       "      <td>0.062827</td>\n",
       "      <td>0.002390</td>\n",
       "      <td>0.000610</td>\n",
       "      <td>0.040201</td>\n",
       "      <td>purposethe prognosis of patients with pancrea...</td>\n",
       "      <td>surgery is still considered to be the only pot...</td>\n",
       "      <td>revealing that modified histopathological work...</td>\n",
       "    </tr>\n",
       "    <tr>\n",
       "      <th>327</th>\n",
       "      <td>0.157303</td>\n",
       "      <td>0.153846</td>\n",
       "      <td>0.003457</td>\n",
       "      <td>0.000457</td>\n",
       "      <td>0.043478</td>\n",
       "      <td>human fingertip microflora is transferred to ...</td>\n",
       "      <td>developing forensic dna markers for human host...</td>\n",
       "      <td>microbes can negatively interfere with the pos...</td>\n",
       "    </tr>\n",
       "    <tr>\n",
       "      <th>3202</th>\n",
       "      <td>0.035928</td>\n",
       "      <td>0.033898</td>\n",
       "      <td>0.002030</td>\n",
       "      <td>0.000970</td>\n",
       "      <td>0.048544</td>\n",
       "      <td>laser pointers are practical and safe trainin...</td>\n",
       "      <td>most accidents are prevented by natural reflex...</td>\n",
       "      <td>anterior segments and intraocular pressures we...</td>\n",
       "    </tr>\n",
       "    <tr>\n",
       "      <th>6140</th>\n",
       "      <td>0.087432</td>\n",
       "      <td>0.084656</td>\n",
       "      <td>0.002776</td>\n",
       "      <td>0.000224</td>\n",
       "      <td>0.053763</td>\n",
       "      <td>fibronectin is a matrix glycoprotein which ha...</td>\n",
       "      <td>while the aforementioned studies have provided...</td>\n",
       "      <td>numerous studies have found that ecm proteins ...</td>\n",
       "    </tr>\n",
       "    <tr>\n",
       "      <th>1968</th>\n",
       "      <td>0.055556</td>\n",
       "      <td>0.052356</td>\n",
       "      <td>0.003200</td>\n",
       "      <td>0.000200</td>\n",
       "      <td>0.060914</td>\n",
       "      <td>with more than 60% of radical prostatectomies...</td>\n",
       "      <td>innovative techniques to incorporate real - ti...</td>\n",
       "      <td>the course of the nvbs from its origin in the ...</td>\n",
       "    </tr>\n",
       "    <tr>\n",
       "      <th>6159</th>\n",
       "      <td>0.178947</td>\n",
       "      <td>0.174863</td>\n",
       "      <td>0.004084</td>\n",
       "      <td>0.001084</td>\n",
       "      <td>0.071795</td>\n",
       "      <td>high sensitivity c - reactive protein ( hscrp...</td>\n",
       "      <td>the objective of this study was to analyze and...</td>\n",
       "      <td>moreover , this biomarker predicts cv events i...</td>\n",
       "    </tr>\n",
       "    <tr>\n",
       "      <th>6457</th>\n",
       "      <td>0.042105</td>\n",
       "      <td>0.040201</td>\n",
       "      <td>0.001904</td>\n",
       "      <td>0.001096</td>\n",
       "      <td>0.072539</td>\n",
       "      <td>although inhibition of voltage - gated calciu...</td>\n",
       "      <td>in contrast , the complete loss of rem2-mediat...</td>\n",
       "      <td>thus , many regulatory mechanisms have evolved...</td>\n",
       "    </tr>\n",
       "    <tr>\n",
       "      <th>210</th>\n",
       "      <td>0.082474</td>\n",
       "      <td>0.080808</td>\n",
       "      <td>0.001666</td>\n",
       "      <td>0.001334</td>\n",
       "      <td>0.072917</td>\n",
       "      <td>we present results of a study investigating e...</td>\n",
       "      <td>hence , in the present study we addressed the ...</td>\n",
       "      <td>one of the most important ways through which s...</td>\n",
       "    </tr>\n",
       "    <tr>\n",
       "      <th>93</th>\n",
       "      <td>0.071066</td>\n",
       "      <td>0.067308</td>\n",
       "      <td>0.003758</td>\n",
       "      <td>0.000758</td>\n",
       "      <td>0.078049</td>\n",
       "      <td>abstractmany pathogens of humans are blood bo...</td>\n",
       "      <td>a better understanding of the evolutionary bio...</td>\n",
       "      <td>each of these explanations has empirical suppo...</td>\n",
       "    </tr>\n",
       "    <tr>\n",
       "      <th>2359</th>\n",
       "      <td>0.125654</td>\n",
       "      <td>0.123711</td>\n",
       "      <td>0.001943</td>\n",
       "      <td>0.001057</td>\n",
       "      <td>0.079602</td>\n",
       "      <td>objectiveto develop a linguistically and psyc...</td>\n",
       "      <td>although its length was not criticized by part...</td>\n",
       "      <td>six items were omitted because of low item - s...</td>\n",
       "    </tr>\n",
       "    <tr>\n",
       "      <th>504</th>\n",
       "      <td>0.118280</td>\n",
       "      <td>0.114583</td>\n",
       "      <td>0.003696</td>\n",
       "      <td>0.000696</td>\n",
       "      <td>0.093750</td>\n",
       "      <td>the mood stabilizer lithium inhibits glycogen...</td>\n",
       "      <td>glycogen synthase kinase-3 ( gsk-3 ) , an evol...</td>\n",
       "      <td>gsk-3 inhibition has attracted widespread atte...</td>\n",
       "    </tr>\n",
       "    <tr>\n",
       "      <th>5564</th>\n",
       "      <td>0.121495</td>\n",
       "      <td>0.117073</td>\n",
       "      <td>0.004422</td>\n",
       "      <td>0.001422</td>\n",
       "      <td>0.094787</td>\n",
       "      <td>the nuclear envelope consists of 2 membranes ...</td>\n",
       "      <td>after cell fusion , in unc-84 or anc-1 mutants...</td>\n",
       "      <td>the role of nuclear envelope defects in a wide...</td>\n",
       "    </tr>\n",
       "    <tr>\n",
       "      <th>2387</th>\n",
       "      <td>0.085714</td>\n",
       "      <td>0.084112</td>\n",
       "      <td>0.001602</td>\n",
       "      <td>0.001398</td>\n",
       "      <td>0.115385</td>\n",
       "      <td>objectiveto compare motivational interviewing...</td>\n",
       "      <td>although we hypothesized that lack of motivati...</td>\n",
       "      <td>participants were randomized to either the mi ...</td>\n",
       "    </tr>\n",
       "    <tr>\n",
       "      <th>6632</th>\n",
       "      <td>0.043243</td>\n",
       "      <td>0.040201</td>\n",
       "      <td>0.003042</td>\n",
       "      <td>0.000042</td>\n",
       "      <td>0.120000</td>\n",
       "      <td>haematological and cytokine alterations in ma...</td>\n",
       "      <td>haematological changes , such as alterations i...</td>\n",
       "      <td>symptomatic patients diagnosed with malaria in...</td>\n",
       "    </tr>\n",
       "    <tr>\n",
       "      <th>5924</th>\n",
       "      <td>0.039216</td>\n",
       "      <td>0.036585</td>\n",
       "      <td>0.002630</td>\n",
       "      <td>0.000370</td>\n",
       "      <td>0.121827</td>\n",
       "      <td>hamstring injuries in sport can be debilitati...</td>\n",
       "      <td>hamstring mechanics are complex , making effor...</td>\n",
       "      <td>biomechanical analysis of hamstring function i...</td>\n",
       "    </tr>\n",
       "    <tr>\n",
       "      <th>5735</th>\n",
       "      <td>0.093750</td>\n",
       "      <td>0.090000</td>\n",
       "      <td>0.003750</td>\n",
       "      <td>0.000750</td>\n",
       "      <td>0.123711</td>\n",
       "      <td>a detailed analysis of the selected dft funct...</td>\n",
       "      <td>the investigation of the electric properties o...</td>\n",
       "      <td>it is known that the molecular electric proper...</td>\n",
       "    </tr>\n",
       "  </tbody>\n",
       "</table>\n",
       "</div>"
      ],
      "text/plain": [
       "      hr_rouge-2  ps_rouge-2  delta_rouge-2  prop_delta_rouge-2  \\\n",
       "2966    0.050251    0.048780       0.001471            0.001529   \n",
       "907     0.044693    0.043011       0.001682            0.001318   \n",
       "4100    0.059880    0.057471       0.002409            0.000591   \n",
       "4326    0.034884    0.032258       0.002626            0.000374   \n",
       "5637    0.065217    0.062827       0.002390            0.000610   \n",
       "327     0.157303    0.153846       0.003457            0.000457   \n",
       "3202    0.035928    0.033898       0.002030            0.000970   \n",
       "6140    0.087432    0.084656       0.002776            0.000224   \n",
       "1968    0.055556    0.052356       0.003200            0.000200   \n",
       "6159    0.178947    0.174863       0.004084            0.001084   \n",
       "6457    0.042105    0.040201       0.001904            0.001096   \n",
       "210     0.082474    0.080808       0.001666            0.001334   \n",
       "93      0.071066    0.067308       0.003758            0.000758   \n",
       "2359    0.125654    0.123711       0.001943            0.001057   \n",
       "504     0.118280    0.114583       0.003696            0.000696   \n",
       "5564    0.121495    0.117073       0.004422            0.001422   \n",
       "2387    0.085714    0.084112       0.001602            0.001398   \n",
       "6632    0.043243    0.040201       0.003042            0.000042   \n",
       "5924    0.039216    0.036585       0.002630            0.000370   \n",
       "5735    0.093750    0.090000       0.003750            0.000750   \n",
       "\n",
       "      ps+hr_rouge-2                                           abstract  \\\n",
       "2966       0.019417   during a  well london study , residents were ...   \n",
       "907        0.020305   prostate cancer ( pca ) therapy typically inv...   \n",
       "4100       0.022099   \\n objective . to review the recent literatur...   \n",
       "4326       0.033708   in order to account for the observable univer...   \n",
       "5637       0.040201   purposethe prognosis of patients with pancrea...   \n",
       "327        0.043478   human fingertip microflora is transferred to ...   \n",
       "3202       0.048544   laser pointers are practical and safe trainin...   \n",
       "6140       0.053763   fibronectin is a matrix glycoprotein which ha...   \n",
       "1968       0.060914   with more than 60% of radical prostatectomies...   \n",
       "6159       0.071795   high sensitivity c - reactive protein ( hscrp...   \n",
       "6457       0.072539   although inhibition of voltage - gated calciu...   \n",
       "210        0.072917   we present results of a study investigating e...   \n",
       "93         0.078049   abstractmany pathogens of humans are blood bo...   \n",
       "2359       0.079602   objectiveto develop a linguistically and psyc...   \n",
       "504        0.093750   the mood stabilizer lithium inhibits glycogen...   \n",
       "5564       0.094787   the nuclear envelope consists of 2 membranes ...   \n",
       "2387       0.115385   objectiveto compare motivational interviewing...   \n",
       "6632       0.120000   haematological and cytokine alterations in ma...   \n",
       "5924       0.121827   hamstring injuries in sport can be debilitati...   \n",
       "5735       0.123711   a detailed analysis of the selected dft funct...   \n",
       "\n",
       "                                             hr_summary  \\\n",
       "2966  this article critically engages with residents...   \n",
       "907   compound purity in all instances  was greater ...   \n",
       "4100  review of recent literature reveals significan...   \n",
       "4326  numerical investigations of cosmological space...   \n",
       "5637  surgery is still considered to be the only pot...   \n",
       "327   developing forensic dna markers for human host...   \n",
       "3202  most accidents are prevented by natural reflex...   \n",
       "6140  while the aforementioned studies have provided...   \n",
       "1968  innovative techniques to incorporate real - ti...   \n",
       "6159  the objective of this study was to analyze and...   \n",
       "6457  in contrast , the complete loss of rem2-mediat...   \n",
       "210   hence , in the present study we addressed the ...   \n",
       "93    a better understanding of the evolutionary bio...   \n",
       "2359  although its length was not criticized by part...   \n",
       "504   glycogen synthase kinase-3 ( gsk-3 ) , an evol...   \n",
       "5564  after cell fusion , in unc-84 or anc-1 mutants...   \n",
       "2387  although we hypothesized that lack of motivati...   \n",
       "6632  haematological changes , such as alterations i...   \n",
       "5924  hamstring mechanics are complex , making effor...   \n",
       "5735  the investigation of the electric properties o...   \n",
       "\n",
       "                                             ps_summary  \n",
       "2966  dog poo. not only was the frequency of the com...  \n",
       "907   the molecular basis of the disease involves an...  \n",
       "4100  brain plasticity , the developing brain 's abi...  \n",
       "4326  these phenomena are described in terms of coup...  \n",
       "5637  revealing that modified histopathological work...  \n",
       "327   microbes can negatively interfere with the pos...  \n",
       "3202  anterior segments and intraocular pressures we...  \n",
       "6140  numerous studies have found that ecm proteins ...  \n",
       "1968  the course of the nvbs from its origin in the ...  \n",
       "6159  moreover , this biomarker predicts cv events i...  \n",
       "6457  thus , many regulatory mechanisms have evolved...  \n",
       "210   one of the most important ways through which s...  \n",
       "93    each of these explanations has empirical suppo...  \n",
       "2359  six items were omitted because of low item - s...  \n",
       "504   gsk-3 inhibition has attracted widespread atte...  \n",
       "5564  the role of nuclear envelope defects in a wide...  \n",
       "2387  participants were randomized to either the mi ...  \n",
       "6632  symptomatic patients diagnosed with malaria in...  \n",
       "5924  biomechanical analysis of hamstring function i...  \n",
       "5735  it is known that the molecular electric proper...  "
      ]
     },
     "execution_count": 41,
     "metadata": {},
     "output_type": "execute_result"
    }
   ],
   "source": [
    "df_sample"
   ]
  },
  {
   "cell_type": "code",
   "execution_count": 42,
   "metadata": {},
   "outputs": [
    {
     "data": {
      "text/plain": [
       "20"
      ]
     },
     "execution_count": 42,
     "metadata": {},
     "output_type": "execute_result"
    }
   ],
   "source": [
    "len(pubmed_sample_json)"
   ]
  },
  {
   "cell_type": "code",
   "execution_count": 43,
   "metadata": {},
   "outputs": [
    {
     "data": {
      "text/plain": [
       "84612"
      ]
     },
     "execution_count": 43,
     "metadata": {},
     "output_type": "execute_result"
    }
   ],
   "source": [
    "Path(\"./test_pubmed_samples.json\").write_text(json.dumps(pubmed_sample_json, indent=4))"
   ]
  },
  {
   "cell_type": "code",
   "execution_count": 46,
   "metadata": {},
   "outputs": [],
   "source": [
    "pubmed_sample_json = json.loads(Path(\"./test_pubmed_samples.json\").read_text())\n",
    "prodigy_examples = []\n",
    "for i,r in list(pubmed_sample_json.items()):\n",
    "    i = int(i)\n",
    "    for model in [\"hr\", \"ps\"]:\n",
    "        if model == 'hr':\n",
    "            sentences = pubmed_test_hiporank[i].split(\"\\n\")\n",
    "        elif model == 'ps':\n",
    "            sentences = pubmed_test_pacsum[i].split(\"\\n\")\n",
    "        for j, sentence in enumerate(sentences):\n",
    "            d = {\n",
    "                \"abstract\": r['abstract'],\n",
    "                \"doc_index\": i,\n",
    "                \"sentence\": sentence,\n",
    "                \"sentence_index\": j,\n",
    "                \"model\": model,                \n",
    "            }\n",
    "            prodigy_examples += [d]"
   ]
  },
  {
   "cell_type": "code",
   "execution_count": 4,
   "metadata": {},
   "outputs": [
    {
     "data": {
      "text/plain": [
       "{'abstract': \" during a  well london study , residents were asked about their neighbourhood and its environment . above all other complaints ,  \\n dog poo was mentioned as a key concern . despite low rates of infection and disease among the human population resulting from contact with canine faecal matter \\n , the concerns of the public continue to rate it as a serious public health issue . \\n most public health studies , therefore , seek to identify processes of transmission and disease pathology as a method of addressing the problem . \\n this study approaches the issue through a contextualised analysis of residents complaints , using anthropological theory to examine the symbolic representation of  \\n dog poo. analysis of the interviews shows that these specific complaints were located among less easily defined or articulated experiences of social and environmental neglect , where neighbours were estranged from one another and local authorities seen as negligent . \\n this approach has important implications for public health , as it provides not only a strong indicator of the level of dissatisfaction within some of london 's more disadvantaged neighbourhoods , but also identifies a need for policies that are grounded in cross - disciplinary research into the relationship between health ,  wellbeing and experiences of marginalisation among urban populations . \",\n",
       " 'doc_index': 2966,\n",
       " 'sentence': 'this article critically engages with residents explicitly focused disgust with canine faecal matter and generates understanding of its symbolic value that helps clarify what has to date , been a poorly resolved public health issue .',\n",
       " 'sentence_index': 0,\n",
       " 'model': 'hr'}"
      ]
     },
     "execution_count": 4,
     "metadata": {},
     "output_type": "execute_result"
    }
   ],
   "source": [
    "prodigy_examples[0]"
   ]
  },
  {
   "cell_type": "code",
   "execution_count": 5,
   "metadata": {},
   "outputs": [],
   "source": [
    "prodigy_examples = [{\"text\": f\"ABSTRACT:\\n {x['abstract']}\\n========================\\n SENTENCE:\\n{x['sentence']}\",\n",
    "                    \"meta\": dict(model=x['model'], sentence_index=x['sentence_index'], doc_index=x['doc_index'])}\n",
    "                    for x in prodigy_examples]"
   ]
  },
  {
   "cell_type": "code",
   "execution_count": 6,
   "metadata": {},
   "outputs": [
    {
     "data": {
      "text/plain": [
       "{'text': \"ABSTRACT:\\n  during a  well london study , residents were asked about their neighbourhood and its environment . above all other complaints ,  \\n dog poo was mentioned as a key concern . despite low rates of infection and disease among the human population resulting from contact with canine faecal matter \\n , the concerns of the public continue to rate it as a serious public health issue . \\n most public health studies , therefore , seek to identify processes of transmission and disease pathology as a method of addressing the problem . \\n this study approaches the issue through a contextualised analysis of residents complaints , using anthropological theory to examine the symbolic representation of  \\n dog poo. analysis of the interviews shows that these specific complaints were located among less easily defined or articulated experiences of social and environmental neglect , where neighbours were estranged from one another and local authorities seen as negligent . \\n this approach has important implications for public health , as it provides not only a strong indicator of the level of dissatisfaction within some of london 's more disadvantaged neighbourhoods , but also identifies a need for policies that are grounded in cross - disciplinary research into the relationship between health ,  wellbeing and experiences of marginalisation among urban populations . \\n========================\\n SENTENCE:\\nthis article critically engages with residents explicitly focused disgust with canine faecal matter and generates understanding of its symbolic value that helps clarify what has to date , been a poorly resolved public health issue .\",\n",
       " 'meta': {'model': 'hr', 'sentence_index': 0, 'doc_index': 2966}}"
      ]
     },
     "execution_count": 6,
     "metadata": {},
     "output_type": "execute_result"
    }
   ],
   "source": [
    "prodigy_examples[0]"
   ]
  },
  {
   "cell_type": "code",
   "execution_count": 7,
   "metadata": {},
   "outputs": [
    {
     "data": {
      "text/plain": [
       "441802"
      ]
     },
     "execution_count": 7,
     "metadata": {},
     "output_type": "execute_result"
    }
   ],
   "source": [
    "Path(\"./prodigy_test_pubmed_samples.jsonl\").write_text(\"\\n\".join([json.dumps(j) for j in prodigy_examples]))"
   ]
  },
  {
   "cell_type": "code",
   "execution_count": null,
   "metadata": {},
   "outputs": [],
   "source": []
  }
 ],
 "metadata": {
  "kernelspec": {
   "display_name": "Python 3",
   "language": "python",
   "name": "python3"
  },
  "language_info": {
   "codemirror_mode": {
    "name": "ipython",
    "version": 3
   },
   "file_extension": ".py",
   "mimetype": "text/x-python",
   "name": "python",
   "nbconvert_exporter": "python",
   "pygments_lexer": "ipython3",
   "version": "3.8.2"
  }
 },
 "nbformat": 4,
 "nbformat_minor": 4
}
